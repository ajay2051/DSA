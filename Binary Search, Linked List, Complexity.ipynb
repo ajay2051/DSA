{
 "cells": [
  {
   "cell_type": "code",
   "execution_count": 1,
   "id": "8f7cdd93",
   "metadata": {},
   "outputs": [],
   "source": [
    "# Alice has some cards with numbers written on them. She arranges the cards in decreasing order, \n",
    "# and lays them out face down in a sequence on a table. She challenges Bob to pick out the card containing a given number \n",
    "# by turning over as few cards as possible. Write a function to help Bob locate the card."
   ]
  },
  {
   "cell_type": "code",
   "execution_count": 2,
   "id": "c4d32c5e",
   "metadata": {},
   "outputs": [],
   "source": [
    "def locate_cards(cards, query):\n",
    "    pass"
   ]
  },
  {
   "cell_type": "code",
   "execution_count": 3,
   "id": "52840d39",
   "metadata": {},
   "outputs": [],
   "source": [
    "cards = [13, 12, 11, 10, 8, 5, 4, 3, 1]\n",
    "query = 8\n",
    "output = 4"
   ]
  },
  {
   "cell_type": "code",
   "execution_count": 4,
   "id": "946ca175",
   "metadata": {},
   "outputs": [
    {
     "name": "stdout",
     "output_type": "stream",
     "text": [
      "None\n"
     ]
    }
   ],
   "source": [
    "result = locate_cards(cards, query)\n",
    "print(result)"
   ]
  },
  {
   "cell_type": "code",
   "execution_count": 5,
   "id": "fb9606e3",
   "metadata": {},
   "outputs": [
    {
     "data": {
      "text/plain": [
       "False"
      ]
     },
     "execution_count": 5,
     "metadata": {},
     "output_type": "execute_result"
    }
   ],
   "source": [
    "result == output"
   ]
  },
  {
   "cell_type": "code",
   "execution_count": null,
   "id": "c5df346a",
   "metadata": {},
   "outputs": [],
   "source": [
    "test = {\n",
    "    'input':{\n",
    "        'cards': [13, 12, 11, 10, 8, 5, 4, 3, 1],\n",
    "        'query': 3\n",
    "    },\n",
    "    'output': 7\n",
    "}"
   ]
  },
  {
   "cell_type": "code",
   "execution_count": null,
   "id": "d7cb6e2f",
   "metadata": {},
   "outputs": [],
   "source": [
    "# This function can also be tested like this\n",
    "    locate_cards(**test['input']) == test['output']"
   ]
  },
  {
   "cell_type": "code",
   "execution_count": null,
   "id": "419ceb64",
   "metadata": {},
   "outputs": [],
   "source": [
    "tests = []"
   ]
  },
  {
   "cell_type": "code",
   "execution_count": null,
   "id": "67c9c612",
   "metadata": {},
   "outputs": [],
   "source": [
    "# query occurs in the middle\n",
    "tests.append(test)\n",
    "tests.append(\n",
    "    {\n",
    "        'input':{\n",
    "            'cards': [13, 11, 10, 7, 4, 3, 1, 0],\n",
    "            'query': 1\n",
    "        },\n",
    "        'output': 6\n",
    "    }\n",
    ")"
   ]
  },
  {
   "cell_type": "code",
   "execution_count": null,
   "id": "e06c2026",
   "metadata": {},
   "outputs": [],
   "source": [
    "# query is the first element\n",
    "tests.append({\n",
    "    'input':{\n",
    "        'cards': [4, 2, 1, -1],\n",
    "        'query': 4\n",
    "    },\n",
    "    \n",
    "    'output': 0\n",
    "})"
   ]
  },
  {
   "cell_type": "code",
   "execution_count": null,
   "id": "9e69558c",
   "metadata": {},
   "outputs": [],
   "source": [
    "# query is the last element\n",
    "tests.append({\n",
    "    'input':{\n",
    "        'cards': [3, -1, -9, -127],\n",
    "        'query': -127\n",
    "    },\n",
    "    'output': 3\n",
    "})"
   ]
  },
  {
   "cell_type": "code",
   "execution_count": null,
   "id": "93b32c29",
   "metadata": {},
   "outputs": [],
   "source": [
    "# cards contains just one element\n",
    "tests.append({\n",
    "    'input':{\n",
    "        'cards': [6],\n",
    "        'query': 6\n",
    "    },\n",
    "    'output': 0\n",
    "})"
   ]
  },
  {
   "cell_type": "code",
   "execution_count": null,
   "id": "66da0c82",
   "metadata": {},
   "outputs": [],
   "source": [
    "# card does not contain query\n",
    "tests.append({\n",
    "    'input':{\n",
    "        'cards':[9, 7, 5, 2, -9],\n",
    "        'query': 4\n",
    "    },\n",
    "    'output': -1\n",
    "})"
   ]
  },
  {
   "cell_type": "code",
   "execution_count": null,
   "id": "641ed51d",
   "metadata": {},
   "outputs": [],
   "source": [
    "# cards is empty\n",
    "tests.append({\n",
    "    'input':{\n",
    "        'cards':[],\n",
    "        'query': 7\n",
    "    },\n",
    "    'output': -1\n",
    "})"
   ]
  },
  {
   "cell_type": "code",
   "execution_count": null,
   "id": "1abb3396",
   "metadata": {},
   "outputs": [],
   "source": [
    "# numbers can repeat in cards\n",
    "tests.append({\n",
    "    'input':{\n",
    "        'cards': [8, 8, 6, 6, 6, 6, 6, 3, 2, 2, 0, 0, ],\n",
    "        'query': 3\n",
    "    },\n",
    "    'output': 7\n",
    "})"
   ]
  },
  {
   "cell_type": "code",
   "execution_count": null,
   "id": "ae6651b4",
   "metadata": {},
   "outputs": [],
   "source": [
    "# query occurs multiple time\n",
    "tests.append({\n",
    "    'input':{\n",
    "        'cards': [8, 8, 6, 6, 6, 6, 6, 3, 2, 2, 0, 0,],\n",
    "        'query': 6\n",
    "    },\n",
    "    'output': 2\n",
    "})"
   ]
  },
  {
   "cell_type": "code",
   "execution_count": null,
   "id": "9d2758ed",
   "metadata": {},
   "outputs": [],
   "source": [
    "# In this problem, coming up with a solution is quite easy: Bob can simply turn over cards in order one by one, \n",
    "#  till he find a card with the given number on it. Here's how we might implement it.\n",
    "\n",
    "# 1. Create a variable position with the valoe 0\n",
    "# 2. Check whether the number at index position in card equals query.\n",
    "# 3. If it does, position is the answer and can be returned from the function.\n",
    "# 4. If not, increment the value of position bt 1, and repeat steps 2 to 5 till we reach the last position.\n",
    "# 5. If the number was not found then, return -1. "
   ]
  },
  {
   "cell_type": "code",
   "execution_count": null,
   "id": "aa4d24b9",
   "metadata": {},
   "outputs": [],
   "source": [
    "# Linear Search Algorithm\n",
    "\n",
    "def locate_cards(cards, query):\n",
    "    position = 0       # Create a variable with position 0\n",
    "    while True:        # set up a loop for repitition\n",
    "        if cards[position] == query:   # Check if the element at the current position match query\n",
    "            return position  # Answer found return and exit\n",
    "        position += 1     # Increment the position\n",
    "        if position == len(cards):   # Check if we have reached end of array\n",
    "            return -1         # Number not found, return -1\n",
    "        \n",
    "        "
   ]
  },
  {
   "cell_type": "code",
   "execution_count": null,
   "id": "be770846",
   "metadata": {},
   "outputs": [],
   "source": [
    "def locate_cards(cards, query):\n",
    "    position = 0\n",
    "    while position < len(cards):\n",
    "        if cards[position] == query:\n",
    "            return position\n",
    "        position += 1\n",
    "    return -1"
   ]
  },
  {
   "cell_type": "code",
   "execution_count": null,
   "id": "0f0684f2",
   "metadata": {},
   "outputs": [],
   "source": [
    "# solution of above problem with binary search\n",
    "\n",
    "# 1. Find the middle element of the list\n",
    "# 2. If it matches queried number, return the middle position as the number.\n",
    "# 3. If it is less than queried number, then search the first half of the list\n",
    "# 4. If it is greater than the queried number, then search the second half of the list\n",
    "# 5. If no more element remain, return -1"
   ]
  },
  {
   "cell_type": "code",
   "execution_count": null,
   "id": "07330761",
   "metadata": {},
   "outputs": [],
   "source": [
    "# Binary search Alogorithm\n",
    "\n",
    "def locate_cards(cards, query):\n",
    "    lo, hi = 0, len(cards) - 1\n",
    "    while lo <= hi:\n",
    "        mid = (lo + hi) // 2\n",
    "        mid_number = card[mid]\n",
    "        \n",
    "        print(\"lo: \", lo, \"hi: \", hi, \"mid: \", mid, \"mid_number: \", mid_number)\n",
    "        \n",
    "        if mid_number == query:\n",
    "            return mid\n",
    "        elif mid_number < query:\n",
    "            hi = mid - 1\n",
    "        elif mid_number > query:\n",
    "            lo = mid + 1\n",
    "    return -1"
   ]
  },
  {
   "cell_type": "code",
   "execution_count": null,
   "id": "3f7667ed",
   "metadata": {},
   "outputs": [],
   "source": [
    "# Let's try to count the number of iterations in the algorithm. If we start out with an array of N elements, then each time the\n",
    "# size of array reduces to half of next iterations until we are just left with one element.\n",
    "\n",
    "# Iteration 1 - N/2\n",
    "# Iteration 2 - N/4 ie N/2^2\n",
    "# Iteration 3 - N/8 ie N/2^3\n",
    "\n",
    "# Iteration K - N/2^k\n",
    "# Since the final length of array is 1, we can find the N/2^k = 1\n",
    "# Rearranging the terms, we get\n",
    "# N = 2^k\n",
    "# k = logN"
   ]
  },
  {
   "cell_type": "code",
   "execution_count": null,
   "id": "91c0dbd3",
   "metadata": {},
   "outputs": [],
   "source": [
    "# Generic Binary Search\n",
    "# here is the general approach\n",
    "\n",
    "# 1. Come up with condition to determine whether the answer lies before, after or at a given position.\n",
    "# 2. Retrieve the midpoint and middle element ot the list.\n",
    "# 3. If it is the answer, return the middle position as the answer.\n",
    "# 4. If answer lies before it, repeat the search with the first half of the list.\n",
    "# 5. If the answer lies after it, repeat the search with the second half of the list.\n",
    "\n",
    "# The worst-case complexity or running time of binary seach is 0(logN)."
   ]
  },
  {
   "cell_type": "code",
   "execution_count": null,
   "id": "a7db1f67",
   "metadata": {},
   "outputs": [],
   "source": [
    "# Here is the generic algorithm for binary search, implement in Python\n",
    "\n",
    "def binary_search(hi, lo, condition):\n",
    "    while lo <= hi:\n",
    "        mid  = (hi + lo) // 2\n",
    "        result = condition(mid)\n",
    "        if result == 'found':\n",
    "            return mid\n",
    "        elif result == 'left':\n",
    "            hi = mid - 1\n",
    "        else:\n",
    "            low = mid + 1\n",
    "    return -1\n",
    "\n",
    "# Note that binary_search accepts a function 'condition' as an argument. Python passing functions as arguments to other \n",
    "# function.\n",
    "\n",
    "def locate_cards(cards, query):\n",
    "    def condition(mid):\n",
    "        if cards[mid] == query:\n",
    "            if mid > 0 and cards[mid - 1] == query:\n",
    "                return 'left'\n",
    "            else:\n",
    "                return 'found'\n",
    "        elif cards[mid] < query:\n",
    "            return 'left'\n",
    "        else:\n",
    "            return 'right'\n",
    "    return binary_search (0, len(cards - 1), condition)"
   ]
  }
 ],
 "metadata": {
  "kernelspec": {
   "display_name": "Python 3 (ipykernel)",
   "language": "python",
   "name": "python3"
  },
  "language_info": {
   "codemirror_mode": {
    "name": "ipython",
    "version": 3
   },
   "file_extension": ".py",
   "mimetype": "text/x-python",
   "name": "python",
   "nbconvert_exporter": "python",
   "pygments_lexer": "ipython3",
   "version": "3.9.13"
  }
 },
 "nbformat": 4,
 "nbformat_minor": 5
}
