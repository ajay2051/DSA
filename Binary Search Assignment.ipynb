{
 "cells": [
  {
   "cell_type": "code",
   "execution_count": null,
   "id": "3d8f0403",
   "metadata": {},
   "outputs": [],
   "source": [
    "# Assignment 1\n",
    "# You are given list of numbers, obtained by rotating a sorted list an unknown number of times. Write a function to determine \n",
    "# the minimum number of times the original sorted list was rotated to obtain the given list. Your function should have the worst\n",
    "# case complexity og O(log N), where N is the list. You can assume that all the numbers in the list are unique.\n",
    "\n",
    "# Example: The list [5, 6, 9, 0, 2, 3, 4] was obtained by rotating the sorted list [0, 2, 3, 4, 5, 6, 9] 3 times.\n",
    "# We define \"rotating a list\" as removing the last element of the list and adding it before the first element. \n",
    "# Eg rotating the list [3, 2, 4, 1] produces [1, 3, 2, 4].\n",
    "# \"Sorted list\" refers to a list where the elements are arranged in the increasing order eg [1, 3, 5, 7]"
   ]
  },
  {
   "cell_type": "code",
   "execution_count": null,
   "id": "0e605a80",
   "metadata": {},
   "outputs": [],
   "source": [
    "def count_rotations(nums):\n",
    "    pass"
   ]
  },
  {
   "cell_type": "code",
   "execution_count": null,
   "id": "d9e324a3",
   "metadata": {},
   "outputs": [],
   "source": [
    "test = {\n",
    "    'input':{\n",
    "        'nums': [19, 25, 29, 3, 5, 6, 7, 9, 11, 14]\n",
    "    },\n",
    "    'output': 3\n",
    "}"
   ]
  },
  {
   "cell_type": "code",
   "execution_count": null,
   "id": "ad14169a",
   "metadata": {},
   "outputs": [],
   "source": [
    "nums0 = test['input']['nums']\n",
    "output0 = test['output']\n",
    "result0 = count_rotation(nums0)\n",
    "result0, result0 == output0"
   ]
  },
  {
   "cell_type": "code",
   "execution_count": null,
   "id": "2fefb5e2",
   "metadata": {},
   "outputs": [],
   "source": [
    "test0 = test"
   ]
  },
  {
   "cell_type": "code",
   "execution_count": null,
   "id": "21294634",
   "metadata": {},
   "outputs": [],
   "source": [
    "# A list of size 8 rotated 5 times.\n",
    "test1 = {\n",
    "    'input':{\n",
    "        'nums': [4, 5, 6, 7, 8, 1, 2, 3]\n",
    "    },\n",
    "    'output': 5\n",
    "}"
   ]
  },
  {
   "cell_type": "code",
   "execution_count": null,
   "id": "5f788708",
   "metadata": {},
   "outputs": [],
   "source": [
    "# A list that wasn't rotated at all\n",
    "test2 = {\n",
    "    'input':{\n",
    "        'nums': ???\n",
    "    },\n",
    "    'output': ???\n",
    "}"
   ]
  },
  {
   "cell_type": "code",
   "execution_count": null,
   "id": "728c9906",
   "metadata": {},
   "outputs": [],
   "source": [
    "# A list that was rotated just once\n",
    "test3 = {\n",
    "    'input': {\n",
    "        'nums':[7, 3, 5]\n",
    "    },\n",
    "    'output'1\n",
    "}"
   ]
  },
  {
   "cell_type": "code",
   "execution_count": null,
   "id": "73b02f56",
   "metadata": {},
   "outputs": [],
   "source": [
    "# A list that was rotated n-1 times, where n is the size of the list.\n",
    "test4 = {\n",
    "    'input':{\n",
    "        'nums': ???\n",
    "    }\n",
    "    'output': ???\n",
    "}"
   ]
  },
  {
   "cell_type": "code",
   "execution_count": null,
   "id": "6abed0b6",
   "metadata": {},
   "outputs": [],
   "source": [
    "# A list that was rotated n times, where n is the size of the list.\n",
    "test4 = {\n",
    "    'input':{\n",
    "        'nums': [3, 5, 7, 8, 9, 10]\n",
    "    }\n",
    "    'output': 0\n",
    "}"
   ]
  },
  {
   "cell_type": "code",
   "execution_count": null,
   "id": "41d2a583",
   "metadata": {},
   "outputs": [],
   "source": [
    "# An empty list\n",
    "test5 = {\n",
    "    'input':{\n",
    "        'nums': []\n",
    "    }\n",
    "    'output': 0\n",
    "}"
   ]
  },
  {
   "cell_type": "code",
   "execution_count": null,
   "id": "b1e55ca0",
   "metadata": {},
   "outputs": [],
   "source": [
    "# An list containing just one element.\n",
    "test5 = {\n",
    "    'input':{\n",
    "        'nums': []\n",
    "    }\n",
    "    'output': 0\n",
    "}"
   ]
  },
  {
   "cell_type": "code",
   "execution_count": null,
   "id": "2dd28e3c",
   "metadata": {},
   "outputs": [],
   "source": [
    "# Coming up with the correct solution is quite easy, and it's based oh this insight: If a list of sorted numbers is rotated k times, \n",
    "# then the smallest number in the list ends up in position k (counting from 0). Further, it is the only number in the list\n",
    "# which is smaller than the number the number before it. Thus we simply need to check for each number in the list whether it is \n",
    "# smaller than the number that comes before it(if there a number before it). Then, our answer i.e the numbers of rotations is\n",
    "# simply the position oh this number is. If we cannot find such a number, then the list wasn't rotated at all.\n",
    "\n",
    "# Example: In the list [19, 25, 29, 3, 5, 6, 7, 9, 11, 14], the number 3 is the only number smaller than it's predecessor. It \n",
    "# occurs the position 4 (counting from 0), hence the array was rotated 4 times.\n",
    "\n",
    "# We can use the linear search algorithm as a first attempt to solve this problem i.e we can perform the check for every \n",
    "# position one by one."
   ]
  },
  {
   "cell_type": "code",
   "execution_count": null,
   "id": "d5bc4239",
   "metadata": {},
   "outputs": [],
   "source": [
    "# Describe the linear search solution explained above problem in your own words.\n",
    "\n",
    "# 1. Create a variable position with value 1\n",
    "# 2. Compare the number at current position to the number before it\n",
    "# If the number is smaller than it's predecessor, then return position.\n",
    "# Otherwise, increment position and repeat till we exhaust all the numbers."
   ]
  },
  {
   "cell_type": "code",
   "execution_count": null,
   "id": "b4cd46a7",
   "metadata": {},
   "outputs": [],
   "source": [
    "# Implement the solution\n",
    "def count_rotations_linear(nums):\n",
    "    position = 1                    # Initial valoe of position\n",
    "    while position < len(nums):      # when loop should terminate\n",
    "        if position > 0 and nums[position] < nums[position-1]:  # success criteria: check whether the number at current position\n",
    "            return position\n",
    "        position += 1   # move to next position\n",
    "    return 0\n"
   ]
  },
  {
   "cell_type": "code",
   "execution_count": null,
   "id": "6e33af7a",
   "metadata": {},
   "outputs": [],
   "source": [
    "# Apply the right technique to overcome the inefficiency. Repeat steps 3 to 6.\n",
    "# As you might have guessed, we can apply Binary Search to solve this problem. The key question we need to answer \n",
    "# in binary search is: Given the middle element, how to decide if it is the answer (smallest number), \n",
    "#     or whether the answer lies to the left or right of it.\n",
    "\n",
    "# If the middle element is smaller than its predecessor, then it is the answer. However, if it isn't, \n",
    "# this check is not sufficient to determine whether the answer lies to the left or the right of it. \n",
    "# Consider the following examples.\n",
    "\n",
    "# [7, 8, 1, 3, 4, 5, 6] (answer lies to the left of the middle element)\n",
    "\n",
    "# [1, 2, 3, 4, 5, -1, 0] (answer lies to the right of the middle element)\n",
    "\n",
    "# Here's a check that will help us determine if the answer lies to the left or the right: \n",
    "# If the middle element of the list is smaller than the last element of the range, \n",
    "# then the answer lies to the left of it. Otherwise, the answer lies to the right.\n",
    "\n",
    "# Do you see why this strategy works?"
   ]
  },
  {
   "cell_type": "code",
   "execution_count": null,
   "id": "2ed4cf51",
   "metadata": {},
   "outputs": [],
   "source": [
    "# Come up with a correct solution for the problem. State it in plain English.\n",
    "# Before we implement the solution, it's useful to describe it in a way that makes most sense to you. \n",
    "# In a coding interview, you will almost certainly be asked to describe your approach before you start writing code."
   ]
  },
  {
   "cell_type": "code",
   "execution_count": null,
   "id": "e2189c33",
   "metadata": {},
   "outputs": [],
   "source": [
    "# Implement the binary search solution described above\n",
    "\n",
    "def count_rotations_binary(nums):\n",
    "    lo = 0\n",
    "    hi = len(nums) - 1\n",
    "    \n",
    "    while ???:\n",
    "        mid = ???\n",
    "        mid_number = nums[mid]\n",
    "        \n",
    "        # Uncomment the next line for logging the values and fixing errors.\n",
    "        # print(\"lo:\", lo, \", hi:\", hi, \", mid:\", mid, \", mid_number:\", mid_number)\n",
    "        \n",
    "        if mid > 0 and ???:\n",
    "            # The middle position is the answer\n",
    "            return mid\n",
    "        \n",
    "        elif ???:\n",
    "            # Answer lies in the left half\n",
    "            hi = mid - 1  \n",
    "        \n",
    "        else:\n",
    "            # Answer lies in the right half\n",
    "            lo = mid + 1\n",
    "    \n",
    "    return ???"
   ]
  }
 ],
 "metadata": {
  "kernelspec": {
   "display_name": "Python 3 (ipykernel)",
   "language": "python",
   "name": "python3"
  },
  "language_info": {
   "codemirror_mode": {
    "name": "ipython",
    "version": 3
   },
   "file_extension": ".py",
   "mimetype": "text/x-python",
   "name": "python",
   "nbconvert_exporter": "python",
   "pygments_lexer": "ipython3",
   "version": "3.9.13"
  }
 },
 "nbformat": 4,
 "nbformat_minor": 5
}
